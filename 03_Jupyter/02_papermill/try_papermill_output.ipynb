{
 "cells": [
  {
   "cell_type": "markdown",
   "id": "302c2577",
   "metadata": {
    "papermill": {
     "duration": 0.02817,
     "end_time": "2021-12-11T21:58:16.022366",
     "exception": false,
     "start_time": "2021-12-11T21:58:15.994196",
     "status": "completed"
    },
    "tags": []
   },
   "source": [
    "# papermill sample\n",
    "---\n",
    "## install\n",
    "- execute the following command\n",
    "    ```\n",
    "    pip install papermill\n",
    "    ```\n",
    "\n",
    "## how to use\n",
    "- Execute either of the following commands\n",
    "    ```\n",
    "    python main.py\n",
    "    ./main.sh\n",
    "    ```\n",
    "\n",
    "## behavior\n",
    "- 指定したいパラメータの全てを１つのセルの中にまとめて書くこと\n",
    "- 「parameters」タグのついたセルの直後に指定した値で変数を上書きする\n",
    "- 「parameters」タグのついたセルが2つ以上あった場合、１番最初のタグのついたセルの直後に上書き処理が入る\n",
    "- 「parameters」タグのついたセルの中で定義していないパラメータも外部から指定できる\n",
    "- 文字列を指定したい場合は、クォーテーションでくくらなくてもよさそう(「3rd」とか数字と組み合わさったものも文字列として認識された)\n",
    "- リストや辞書を渡したい場合、CLIからはうまくできないかも\n",
    "    - main.sh からリストを渡すとエラーになる\n",
    "    - main.py からなら渡すことができた"
   ]
  },
  {
   "cell_type": "code",
   "execution_count": 1,
   "id": "c767a1fd",
   "metadata": {
    "execution": {
     "iopub.execute_input": "2021-12-11T21:58:16.039607Z",
     "iopub.status.busy": "2021-12-11T21:58:16.038493Z",
     "iopub.status.idle": "2021-12-11T21:58:16.045950Z",
     "shell.execute_reply": "2021-12-11T21:58:16.046546Z"
    },
    "papermill": {
     "duration": 0.020423,
     "end_time": "2021-12-11T21:58:16.046855",
     "exception": false,
     "start_time": "2021-12-11T21:58:16.026432",
     "status": "completed"
    },
    "tags": [
     "parameters"
    ]
   },
   "outputs": [],
   "source": [
    "alpha = 'hello'\n",
    "beta = 0\n",
    "gamma = [1, 2, 3]\n",
    "delta = 'world'"
   ]
  },
  {
   "cell_type": "code",
   "execution_count": 2,
   "id": "f5de97e2",
   "metadata": {
    "execution": {
     "iopub.execute_input": "2021-12-11T21:58:16.059014Z",
     "iopub.status.busy": "2021-12-11T21:58:16.058340Z",
     "iopub.status.idle": "2021-12-11T21:58:16.060379Z",
     "shell.execute_reply": "2021-12-11T21:58:16.061090Z"
    },
    "papermill": {
     "duration": 0.01033,
     "end_time": "2021-12-11T21:58:16.061379",
     "exception": false,
     "start_time": "2021-12-11T21:58:16.051049",
     "status": "completed"
    },
    "tags": [
     "injected-parameters"
    ]
   },
   "outputs": [],
   "source": [
    "# Parameters\n",
    "alpha = [\"hello\", \"world\", 1]\n",
    "beta = [1, 2, 3]\n",
    "gamma = {\"1\": \"hello\", \"2\": \"world\"}\n",
    "epsilon = 100\n"
   ]
  },
  {
   "cell_type": "code",
   "execution_count": 3,
   "id": "223c57d7",
   "metadata": {
    "execution": {
     "iopub.execute_input": "2021-12-11T21:58:16.072748Z",
     "iopub.status.busy": "2021-12-11T21:58:16.072081Z",
     "iopub.status.idle": "2021-12-11T21:58:16.074120Z",
     "shell.execute_reply": "2021-12-11T21:58:16.074590Z"
    },
    "papermill": {
     "duration": 0.009703,
     "end_time": "2021-12-11T21:58:16.074813",
     "exception": false,
     "start_time": "2021-12-11T21:58:16.065110",
     "status": "completed"
    },
    "tags": [
     "parameters"
    ]
   },
   "outputs": [],
   "source": [
    "epsilon = -1"
   ]
  },
  {
   "cell_type": "code",
   "execution_count": 4,
   "id": "49e28980",
   "metadata": {
    "execution": {
     "iopub.execute_input": "2021-12-11T21:58:16.088279Z",
     "iopub.status.busy": "2021-12-11T21:58:16.087435Z",
     "iopub.status.idle": "2021-12-11T21:58:16.090294Z",
     "shell.execute_reply": "2021-12-11T21:58:16.090781Z"
    },
    "papermill": {
     "duration": 0.012026,
     "end_time": "2021-12-11T21:58:16.091006",
     "exception": false,
     "start_time": "2021-12-11T21:58:16.078980",
     "status": "completed"
    },
    "tags": []
   },
   "outputs": [
    {
     "name": "stdout",
     "output_type": "stream",
     "text": [
      "alpha = ['hello', 'world', 1]\n",
      "beta = [1, 2, 3]\n",
      "gamma = {'1': 'hello', '2': 'world'}\n",
      "delta = world\n",
      "epsilon = -1\n"
     ]
    }
   ],
   "source": [
    "print(f'alpha = {alpha}')\n",
    "print(f'beta = {beta}')\n",
    "print(f'gamma = {gamma}')\n",
    "print(f'delta = {delta}')\n",
    "print(f'epsilon = {epsilon}')"
   ]
  },
  {
   "cell_type": "code",
   "execution_count": null,
   "id": "dc9ca235",
   "metadata": {
    "papermill": {
     "duration": 0.004328,
     "end_time": "2021-12-11T21:58:16.100016",
     "exception": false,
     "start_time": "2021-12-11T21:58:16.095688",
     "status": "completed"
    },
    "tags": []
   },
   "outputs": [],
   "source": []
  }
 ],
 "metadata": {
  "celltoolbar": "Tags",
  "interpreter": {
   "hash": "27668e8521d35fc5d0ab873752a8d83935192a7b185c8d8e2fc1e19d0867d82a"
  },
  "kernelspec": {
   "display_name": "Python 3 (ipykernel)",
   "language": "python",
   "name": "python3"
  },
  "language_info": {
   "codemirror_mode": {
    "name": "ipython",
    "version": 3
   },
   "file_extension": ".py",
   "mimetype": "text/x-python",
   "name": "python",
   "nbconvert_exporter": "python",
   "pygments_lexer": "ipython3",
   "version": "3.9.7"
  },
  "papermill": {
   "default_parameters": {},
   "duration": 1.914063,
   "end_time": "2021-12-11T21:58:16.212860",
   "environment_variables": {},
   "exception": null,
   "input_path": "try_papermill.ipynb",
   "output_path": "try_papermill_output.ipynb",
   "parameters": {
    "alpha": [
     "hello",
     "world",
     1
    ],
    "beta": [
     1,
     2,
     3
    ],
    "epsilon": 100,
    "gamma": {
     "1": "hello",
     "2": "world"
    }
   },
   "start_time": "2021-12-11T21:58:14.298797",
   "version": "2.3.3"
  }
 },
 "nbformat": 4,
 "nbformat_minor": 5
}