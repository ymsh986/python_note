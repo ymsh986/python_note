{
 "cells": [
  {
   "cell_type": "markdown",
   "metadata": {},
   "source": [
    "# papermill sample\n",
    "---\n",
    "## install\n",
    "- execute the following command\n",
    "    ```\n",
    "    pip install papermill\n",
    "    ```\n",
    "\n",
    "## how to use\n",
    "- Execute either of the following commands\n",
    "    ```\n",
    "    python main.py\n",
    "    ./main.sh\n",
    "    ```\n",
    "\n",
    "## behavior\n",
    "- 指定したいパラメータの全てを１つのセルの中にまとめて書くこと\n",
    "- 「parameters」タグのついたセルの直後に指定した値で変数を上書きする\n",
    "- 「parameters」タグのついたセルが2つ以上あった場合、１番最初のタグのついたセルの直後に上書き処理が入る\n",
    "- 「parameters」タグのついたセルの中で定義していないパラメータも外部から指定できる\n",
    "- 文字列を指定したい場合は、クォーテーションでくくらなくてもよさそう(「3rd」とか数字と組み合わさったものも文字列として認識された)\n",
    "- リストや辞書を渡したい場合、CLIからはうまくできないかも\n",
    "    - main.sh からリストを渡すとエラーになる\n",
    "    - main.py からなら渡すことができた"
   ]
  },
  {
   "cell_type": "code",
   "execution_count": null,
   "metadata": {
    "tags": [
     "parameters"
    ]
   },
   "outputs": [],
   "source": [
    "alpha = 'hello'\n",
    "beta = 0\n",
    "gamma = [1, 2, 3]\n",
    "delta = 'world'"
   ]
  },
  {
   "cell_type": "code",
   "execution_count": null,
   "metadata": {
    "tags": [
     "parameters"
    ]
   },
   "outputs": [],
   "source": [
    "epsilon = -1"
   ]
  },
  {
   "cell_type": "code",
   "execution_count": null,
   "metadata": {},
   "outputs": [],
   "source": [
    "print(f'alpha = {alpha}')\n",
    "print(f'beta = {beta}')\n",
    "print(f'gamma = {gamma}')\n",
    "print(f'delta = {delta}')\n",
    "print(f'epsilon = {epsilon}')"
   ]
  },
  {
   "cell_type": "code",
   "execution_count": null,
   "metadata": {},
   "outputs": [],
   "source": []
  }
 ],
 "metadata": {
  "celltoolbar": "Tags",
  "interpreter": {
   "hash": "27668e8521d35fc5d0ab873752a8d83935192a7b185c8d8e2fc1e19d0867d82a"
  },
  "kernelspec": {
   "display_name": "Python 3 (ipykernel)",
   "language": "python",
   "name": "python3"
  },
  "language_info": {
   "codemirror_mode": {
    "name": "ipython",
    "version": 3
   },
   "file_extension": ".py",
   "mimetype": "text/x-python",
   "name": "python",
   "nbconvert_exporter": "python",
   "pygments_lexer": "ipython3",
   "version": "3.9.7"
  }
 },
 "nbformat": 4,
 "nbformat_minor": 2
}
